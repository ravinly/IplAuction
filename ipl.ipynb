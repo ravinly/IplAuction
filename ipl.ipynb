{
  "nbformat": 4,
  "nbformat_minor": 0,
  "metadata": {
    "colab": {
      "provenance": []
    },
    "kernelspec": {
      "name": "python3",
      "display_name": "Python 3"
    },
    "language_info": {
      "name": "python"
    }
  },
  "cells": [
    {
      "cell_type": "code",
      "execution_count": 1,
      "metadata": {
        "colab": {
          "base_uri": "https://localhost:8080/"
        },
        "id": "h-6rL3jR8Fao",
        "outputId": "0506626c-a6d3-49b3-9295-1e52372e21bc"
      },
      "outputs": [
        {
          "output_type": "stream",
          "name": "stdout",
          "text": [
            "Collecting pyspark\n",
            "  Downloading pyspark-3.5.0.tar.gz (316.9 MB)\n",
            "\u001b[2K     \u001b[90m━━━━━━━━━━━━━━━━━━━━━━━━━━━━━━━━━━━━━━━━\u001b[0m \u001b[32m316.9/316.9 MB\u001b[0m \u001b[31m4.4 MB/s\u001b[0m eta \u001b[36m0:00:00\u001b[0m\n",
            "\u001b[?25h  Preparing metadata (setup.py) ... \u001b[?25l\u001b[?25hdone\n",
            "Requirement already satisfied: py4j==0.10.9.7 in /usr/local/lib/python3.10/dist-packages (from pyspark) (0.10.9.7)\n",
            "Building wheels for collected packages: pyspark\n",
            "  Building wheel for pyspark (setup.py) ... \u001b[?25l\u001b[?25hdone\n",
            "  Created wheel for pyspark: filename=pyspark-3.5.0-py2.py3-none-any.whl size=317425345 sha256=af2ac3b86a9c09df95e004e54ce572e79de0c9e2732135599a18f4724fb7db40\n",
            "  Stored in directory: /root/.cache/pip/wheels/41/4e/10/c2cf2467f71c678cfc8a6b9ac9241e5e44a01940da8fbb17fc\n",
            "Successfully built pyspark\n",
            "Installing collected packages: pyspark\n",
            "Successfully installed pyspark-3.5.0\n"
          ]
        }
      ],
      "source": [
        "#Install required packages\n",
        "\n",
        "!pip install pyspark"
      ]
    },
    {
      "cell_type": "code",
      "source": [
        "#import libraries\n",
        "\n",
        "import pandas as pd\n",
        "\n",
        "from pyspark.sql import SparkSession\n",
        "\n",
        "from pyspark.sql import *"
      ],
      "metadata": {
        "id": "uy9fPVYi9QH7"
      },
      "execution_count": 2,
      "outputs": []
    },
    {
      "cell_type": "code",
      "source": [
        "#Start Spark Session\n",
        "\n",
        "spark = SparkSession.builder.getOrCreate()"
      ],
      "metadata": {
        "id": "4Y9jc91e9UMj"
      },
      "execution_count": 3,
      "outputs": []
    },
    {
      "cell_type": "code",
      "source": [
        "!git clone https://github.com/kundigagandeep/IPL-Auction.git"
      ],
      "metadata": {
        "colab": {
          "base_uri": "https://localhost:8080/"
        },
        "id": "z9p9_2DK9flM",
        "outputId": "089fe189-2b27-447d-d2ea-563fb22a4df7"
      },
      "execution_count": 4,
      "outputs": [
        {
          "output_type": "stream",
          "name": "stdout",
          "text": [
            "Cloning into 'IPL-Auction'...\n",
            "remote: Enumerating objects: 9, done.\u001b[K\n",
            "remote: Counting objects: 100% (9/9), done.\u001b[K\n",
            "remote: Compressing objects: 100% (8/8), done.\u001b[K\n",
            "remote: Total 9 (delta 1), reused 0 (delta 0), pack-reused 0\u001b[K\n",
            "Receiving objects: 100% (9/9), 22.95 KiB | 5.74 MiB/s, done.\n",
            "Resolving deltas: 100% (1/1), done.\n"
          ]
        }
      ]
    },
    {
      "cell_type": "code",
      "source": [
        "df = spark.read.option(\"header\", True).option('inferSchema',True).csv(\"/content/IPL-Auction/ipl_2022_dataset.csv\")"
      ],
      "metadata": {
        "id": "H2ZXJI-r9-ny"
      },
      "execution_count": 5,
      "outputs": []
    },
    {
      "cell_type": "code",
      "source": [
        "df.show()"
      ],
      "metadata": {
        "colab": {
          "base_uri": "https://localhost:8080/"
        },
        "id": "DcEIj8Gz-S3z",
        "outputId": "cf8d7222-f9d4-4b4a-b742-bf4d5f20332b"
      },
      "execution_count": 6,
      "outputs": [
        {
          "output_type": "stream",
          "name": "stdout",
          "text": [
            "+---+-------------------+----------+------------+---------------+---------------+----------+--------------+\n",
            "|_c0|             Player|Base Price|        TYPE|COST IN ₹ (CR.)|Cost IN $ (000)|2021 Squad|          Team|\n",
            "+---+-------------------+----------+------------+---------------+---------------+----------+--------------+\n",
            "|  0|        Rashid Khan|Draft Pick|      BOWLER|           15.0|         1950.0|       SRH|Gujarat Titans|\n",
            "|  1|      Hardik Pandya|Draft Pick| ALL-ROUNDER|           15.0|         1950.0|        MI|Gujarat Titans|\n",
            "|  2|    Lockie Ferguson|      2 Cr|      BOWLER|           10.0|         1300.0|       KKR|Gujarat Titans|\n",
            "|  3|      Rahul Tewatia|   40 Lakh| ALL-ROUNDER|            9.0|         1170.0|        RR|Gujarat Titans|\n",
            "|  4|       Shubman Gill|Draft Pick|      BATTER|            8.0|         1040.0|       KKR|Gujarat Titans|\n",
            "|  5|     Mohammad Shami|      2 Cr|      BOWLER|           6.25|          812.5|      PBKS|Gujarat Titans|\n",
            "|  6|         Yash Dayal|   20 Lakh|      BOWLER|            3.2|          416.0|      NULL|Gujarat Titans|\n",
            "|  7|       David Miller|      1 Cr|      BATTER|            3.0|          390.0|        RR|Gujarat Titans|\n",
            "|  8|     R. Sai Kishore|   20 Lakh|      BOWLER|            3.0|          390.0|       CSK|Gujarat Titans|\n",
            "|  9|Abhinav Sadarangani|   20 Lakh|      BATTER|            2.6|          338.0|      NULL|Gujarat Titans|\n",
            "| 10|       Matthew Wade|      2 Cr|WICKETKEEPER|            2.4|          312.0|      NULL|Gujarat Titans|\n",
            "| 11|     Alzarri Joseph|   75 Lakh|      BOWLER|            2.4|          312.0|      NULL|Gujarat Titans|\n",
            "| 12|          Jason Roy|      2 Cr|      BATTER|            2.0|          260.0|       SRH|Gujarat Titans|\n",
            "| 13|    Wriddhiman Saha|      1 Cr|WICKETKEEPER|            1.9|          247.0|       SRH|Gujarat Titans|\n",
            "| 14|       Jayant Yadav|      1 Cr| ALL-ROUNDER|            1.7|          221.0|        MI|Gujarat Titans|\n",
            "| 15|      Vijay Shankar|   50 Lakh| ALL-ROUNDER|            1.4|          182.0|       SRH|Gujarat Titans|\n",
            "| 16|     Dominic Drakes|   75 Lakh| ALL-ROUNDER|            1.1|          143.0|       CSK|Gujarat Titans|\n",
            "| 17|        Varun Aaron|   50 Lakh|      BOWLER|            0.5|           65.0|      NULL|Gujarat Titans|\n",
            "| 18|    Gurkeerat Singh|   50 Lakh| ALL-ROUNDER|            0.5|           65.0|       KKR|Gujarat Titans|\n",
            "| 19|         Noor Ahmad|   30 Lakh|      BOWLER|            0.3|           39.0|      NULL|Gujarat Titans|\n",
            "+---+-------------------+----------+------------+---------------+---------------+----------+--------------+\n",
            "only showing top 20 rows\n",
            "\n"
          ]
        }
      ]
    },
    {
      "cell_type": "code",
      "source": [
        "df.printSchema()"
      ],
      "metadata": {
        "colab": {
          "base_uri": "https://localhost:8080/"
        },
        "id": "Koj38kJF-YCC",
        "outputId": "041d76f7-927b-4ff6-832d-20c4d0b57b09"
      },
      "execution_count": 7,
      "outputs": [
        {
          "output_type": "stream",
          "name": "stdout",
          "text": [
            "root\n",
            " |-- _c0: integer (nullable = true)\n",
            " |-- Player: string (nullable = true)\n",
            " |-- Base Price: string (nullable = true)\n",
            " |-- TYPE: string (nullable = true)\n",
            " |-- COST IN ₹ (CR.): double (nullable = true)\n",
            " |-- Cost IN $ (000): double (nullable = true)\n",
            " |-- 2021 Squad: string (nullable = true)\n",
            " |-- Team: string (nullable = true)\n",
            "\n"
          ]
        }
      ]
    },
    {
      "cell_type": "code",
      "source": [
        "#Total number of rows and columns\n",
        "print('Rows: ', df.count())\n",
        "\n",
        "print('Columns:', len(df.columns))"
      ],
      "metadata": {
        "colab": {
          "base_uri": "https://localhost:8080/"
        },
        "id": "PbLtiSIi-cSW",
        "outputId": "061d13fb-fe05-47db-cc83-6c3a451534a2"
      },
      "execution_count": 8,
      "outputs": [
        {
          "output_type": "stream",
          "name": "stdout",
          "text": [
            "Rows:  633\n",
            "Columns: 8\n"
          ]
        }
      ]
    },
    {
      "cell_type": "code",
      "source": [
        "#Data Types\n",
        "\n",
        "df.printSchema()"
      ],
      "metadata": {
        "colab": {
          "base_uri": "https://localhost:8080/"
        },
        "id": "MavsbXar-1Yi",
        "outputId": "f0a42182-9a6a-409e-a318-639cf0fc9aed"
      },
      "execution_count": 9,
      "outputs": [
        {
          "output_type": "stream",
          "name": "stdout",
          "text": [
            "root\n",
            " |-- _c0: integer (nullable = true)\n",
            " |-- Player: string (nullable = true)\n",
            " |-- Base Price: string (nullable = true)\n",
            " |-- TYPE: string (nullable = true)\n",
            " |-- COST IN ₹ (CR.): double (nullable = true)\n",
            " |-- Cost IN $ (000): double (nullable = true)\n",
            " |-- 2021 Squad: string (nullable = true)\n",
            " |-- Team: string (nullable = true)\n",
            "\n"
          ]
        }
      ]
    },
    {
      "cell_type": "code",
      "source": [
        "#Unique Values in 'Base Price' Column\n",
        "\n",
        "df.select('Base Price').distinct().collect()"
      ],
      "metadata": {
        "colab": {
          "base_uri": "https://localhost:8080/"
        },
        "id": "70Ilyj0m-4XZ",
        "outputId": "f5e225a8-c80f-4a28-f1fb-bd66ce29c2ff"
      },
      "execution_count": 10,
      "outputs": [
        {
          "output_type": "execute_result",
          "data": {
            "text/plain": [
              "[Row(Base Price='20 Lakh'),\n",
              " Row(Base Price='2 Cr'),\n",
              " Row(Base Price='Draft Pick'),\n",
              " Row(Base Price='40 Lakh'),\n",
              " Row(Base Price='30 Lakh'),\n",
              " Row(Base Price='1 Cr'),\n",
              " Row(Base Price='50 Lakh'),\n",
              " Row(Base Price='1.5 Cr'),\n",
              " Row(Base Price='75 Lakh'),\n",
              " Row(Base Price='Retained')]"
            ]
          },
          "metadata": {},
          "execution_count": 10
        }
      ]
    },
    {
      "cell_type": "code",
      "source": [
        "#Distribution of values inside column 'Base Price'\n",
        "\n",
        "df.groupBy('Base Price').count().show()"
      ],
      "metadata": {
        "colab": {
          "base_uri": "https://localhost:8080/"
        },
        "id": "yQ8QM-xK-7zq",
        "outputId": "48813e49-e98f-4115-a10b-4891d6cbcb6e"
      },
      "execution_count": 11,
      "outputs": [
        {
          "output_type": "stream",
          "name": "stdout",
          "text": [
            "+----------+-----+\n",
            "|Base Price|count|\n",
            "+----------+-----+\n",
            "|   20 Lakh|  344|\n",
            "|      2 Cr|   48|\n",
            "|Draft Pick|    6|\n",
            "|   40 Lakh|   16|\n",
            "|   30 Lakh|    9|\n",
            "|      1 Cr|   33|\n",
            "|   50 Lakh|  104|\n",
            "|    1.5 Cr|   20|\n",
            "|   75 Lakh|   26|\n",
            "|  Retained|   27|\n",
            "+----------+-----+\n",
            "\n"
          ]
        }
      ]
    },
    {
      "cell_type": "markdown",
      "source": [
        "Questions to Answer\n",
        "Top 3 batsman who got paid the most?\n",
        "Top 5 bowlers who got paid the most?\n",
        "Highest paid all-rounders?\n",
        "Average pay for Batsman, Bowler, All-Rounder, Wicket-Keeper?\n",
        "List of Retained players with Salary?"
      ],
      "metadata": {
        "id": "ZRk_Fzi-_DSL"
      }
    },
    {
      "cell_type": "code",
      "source": [
        "df.show(5)"
      ],
      "metadata": {
        "colab": {
          "base_uri": "https://localhost:8080/"
        },
        "id": "LJGxs61p--qy",
        "outputId": "12eff0ef-8ab9-4157-a288-6f8def0e01aa"
      },
      "execution_count": 12,
      "outputs": [
        {
          "output_type": "stream",
          "name": "stdout",
          "text": [
            "+---+---------------+----------+-----------+---------------+---------------+----------+--------------+\n",
            "|_c0|         Player|Base Price|       TYPE|COST IN ₹ (CR.)|Cost IN $ (000)|2021 Squad|          Team|\n",
            "+---+---------------+----------+-----------+---------------+---------------+----------+--------------+\n",
            "|  0|    Rashid Khan|Draft Pick|     BOWLER|           15.0|         1950.0|       SRH|Gujarat Titans|\n",
            "|  1|  Hardik Pandya|Draft Pick|ALL-ROUNDER|           15.0|         1950.0|        MI|Gujarat Titans|\n",
            "|  2|Lockie Ferguson|      2 Cr|     BOWLER|           10.0|         1300.0|       KKR|Gujarat Titans|\n",
            "|  3|  Rahul Tewatia|   40 Lakh|ALL-ROUNDER|            9.0|         1170.0|        RR|Gujarat Titans|\n",
            "|  4|   Shubman Gill|Draft Pick|     BATTER|            8.0|         1040.0|       KKR|Gujarat Titans|\n",
            "+---+---------------+----------+-----------+---------------+---------------+----------+--------------+\n",
            "only showing top 5 rows\n",
            "\n"
          ]
        }
      ]
    },
    {
      "cell_type": "code",
      "source": [
        "#Rename Column\n",
        "\n",
        "df2 = df.withColumnRenamed(\"Player\",\"player\")\\\n",
        "      .withColumnRenamed(\"Base Price\",\"base_price\")\\\n",
        "      .withColumnRenamed(\"Type\",\"type\") \\\n",
        "      .withColumnRenamed(\"COST IN ₹ (CR.)\",\"cost_inr\") \\\n",
        "      .withColumnRenamed(\"Cost IN $ (000)\",\"cost_usd\") \\\n",
        "      .withColumnRenamed(\"2021 Squad\",\"2021_team\") \\\n",
        "      .withColumnRenamed(\"Team\",\"2022_team\")"
      ],
      "metadata": {
        "id": "_eq9Gezk_IQ5"
      },
      "execution_count": 13,
      "outputs": []
    },
    {
      "cell_type": "code",
      "source": [
        "df2.show(5)"
      ],
      "metadata": {
        "colab": {
          "base_uri": "https://localhost:8080/"
        },
        "id": "HYkJYBPK_MFQ",
        "outputId": "2845d635-7ea7-46b0-cd71-032916ef7baa"
      },
      "execution_count": 14,
      "outputs": [
        {
          "output_type": "stream",
          "name": "stdout",
          "text": [
            "+---+---------------+----------+-----------+--------+--------+---------+--------------+\n",
            "|_c0|         player|base_price|       type|cost_inr|cost_usd|2021_team|     2022_team|\n",
            "+---+---------------+----------+-----------+--------+--------+---------+--------------+\n",
            "|  0|    Rashid Khan|Draft Pick|     BOWLER|    15.0|  1950.0|      SRH|Gujarat Titans|\n",
            "|  1|  Hardik Pandya|Draft Pick|ALL-ROUNDER|    15.0|  1950.0|       MI|Gujarat Titans|\n",
            "|  2|Lockie Ferguson|      2 Cr|     BOWLER|    10.0|  1300.0|      KKR|Gujarat Titans|\n",
            "|  3|  Rahul Tewatia|   40 Lakh|ALL-ROUNDER|     9.0|  1170.0|       RR|Gujarat Titans|\n",
            "|  4|   Shubman Gill|Draft Pick|     BATTER|     8.0|  1040.0|      KKR|Gujarat Titans|\n",
            "+---+---------------+----------+-----------+--------+--------+---------+--------------+\n",
            "only showing top 5 rows\n",
            "\n"
          ]
        }
      ]
    },
    {
      "cell_type": "code",
      "source": [
        "#Dropping USD Column\n",
        "\n",
        "df3 = df2.drop('cost_usd')"
      ],
      "metadata": {
        "id": "phIYHQ3X_N0K"
      },
      "execution_count": 15,
      "outputs": []
    },
    {
      "cell_type": "code",
      "source": [
        "#Check updated Dataframe\n",
        "\n",
        "df3.show()"
      ],
      "metadata": {
        "colab": {
          "base_uri": "https://localhost:8080/"
        },
        "id": "9k1w9-CB_T5K",
        "outputId": "1ec12512-5f52-48ae-c949-2502a65ba7be"
      },
      "execution_count": 16,
      "outputs": [
        {
          "output_type": "stream",
          "name": "stdout",
          "text": [
            "+---+-------------------+----------+------------+--------+---------+--------------+\n",
            "|_c0|             player|base_price|        type|cost_inr|2021_team|     2022_team|\n",
            "+---+-------------------+----------+------------+--------+---------+--------------+\n",
            "|  0|        Rashid Khan|Draft Pick|      BOWLER|    15.0|      SRH|Gujarat Titans|\n",
            "|  1|      Hardik Pandya|Draft Pick| ALL-ROUNDER|    15.0|       MI|Gujarat Titans|\n",
            "|  2|    Lockie Ferguson|      2 Cr|      BOWLER|    10.0|      KKR|Gujarat Titans|\n",
            "|  3|      Rahul Tewatia|   40 Lakh| ALL-ROUNDER|     9.0|       RR|Gujarat Titans|\n",
            "|  4|       Shubman Gill|Draft Pick|      BATTER|     8.0|      KKR|Gujarat Titans|\n",
            "|  5|     Mohammad Shami|      2 Cr|      BOWLER|    6.25|     PBKS|Gujarat Titans|\n",
            "|  6|         Yash Dayal|   20 Lakh|      BOWLER|     3.2|     NULL|Gujarat Titans|\n",
            "|  7|       David Miller|      1 Cr|      BATTER|     3.0|       RR|Gujarat Titans|\n",
            "|  8|     R. Sai Kishore|   20 Lakh|      BOWLER|     3.0|      CSK|Gujarat Titans|\n",
            "|  9|Abhinav Sadarangani|   20 Lakh|      BATTER|     2.6|     NULL|Gujarat Titans|\n",
            "| 10|       Matthew Wade|      2 Cr|WICKETKEEPER|     2.4|     NULL|Gujarat Titans|\n",
            "| 11|     Alzarri Joseph|   75 Lakh|      BOWLER|     2.4|     NULL|Gujarat Titans|\n",
            "| 12|          Jason Roy|      2 Cr|      BATTER|     2.0|      SRH|Gujarat Titans|\n",
            "| 13|    Wriddhiman Saha|      1 Cr|WICKETKEEPER|     1.9|      SRH|Gujarat Titans|\n",
            "| 14|       Jayant Yadav|      1 Cr| ALL-ROUNDER|     1.7|       MI|Gujarat Titans|\n",
            "| 15|      Vijay Shankar|   50 Lakh| ALL-ROUNDER|     1.4|      SRH|Gujarat Titans|\n",
            "| 16|     Dominic Drakes|   75 Lakh| ALL-ROUNDER|     1.1|      CSK|Gujarat Titans|\n",
            "| 17|        Varun Aaron|   50 Lakh|      BOWLER|     0.5|     NULL|Gujarat Titans|\n",
            "| 18|    Gurkeerat Singh|   50 Lakh| ALL-ROUNDER|     0.5|      KKR|Gujarat Titans|\n",
            "| 19|         Noor Ahmad|   30 Lakh|      BOWLER|     0.3|     NULL|Gujarat Titans|\n",
            "+---+-------------------+----------+------------+--------+---------+--------------+\n",
            "only showing top 20 rows\n",
            "\n"
          ]
        }
      ]
    },
    {
      "cell_type": "markdown",
      "source": [
        "**Question 1 - Name top 3 batsman who got paid the most?**"
      ],
      "metadata": {
        "id": "hms-9uZs_X24"
      }
    },
    {
      "cell_type": "code",
      "source": [
        "df3.select('player','cost_inr').where(df3.type=='BATTER').orderBy('cost_inr', ascending=False).show(3)"
      ],
      "metadata": {
        "colab": {
          "base_uri": "https://localhost:8080/"
        },
        "id": "8zGO_g70_cKo",
        "outputId": "d74c0e22-a261-452a-f336-32333698df19"
      },
      "execution_count": 17,
      "outputs": [
        {
          "output_type": "stream",
          "name": "stdout",
          "text": [
            "+---------------+--------+\n",
            "|         player|cost_inr|\n",
            "+---------------+--------+\n",
            "|   Rohit Sharma|    16.0|\n",
            "|    Virat Kohli|    15.0|\n",
            "|Kane Williamson|    14.0|\n",
            "+---------------+--------+\n",
            "only showing top 3 rows\n",
            "\n"
          ]
        }
      ]
    },
    {
      "cell_type": "code",
      "source": [
        "df3.createOrReplaceTempView('ipl')"
      ],
      "metadata": {
        "id": "hs4bzjpi_hlx"
      },
      "execution_count": 18,
      "outputs": []
    },
    {
      "cell_type": "code",
      "source": [
        "spark.sql(\"\"\"SELECT player, cost_inr FROM ipl WHERE type = 'BATTER' ORDER BY 2 DESC LIMIT 3\"\"\").show()"
      ],
      "metadata": {
        "colab": {
          "base_uri": "https://localhost:8080/"
        },
        "id": "SDCisoP2_klJ",
        "outputId": "91d3c2ee-a47f-4e4f-9257-c95cfad7ca48"
      },
      "execution_count": 19,
      "outputs": [
        {
          "output_type": "stream",
          "name": "stdout",
          "text": [
            "+---------------+--------+\n",
            "|         player|cost_inr|\n",
            "+---------------+--------+\n",
            "|   Rohit Sharma|    16.0|\n",
            "|    Virat Kohli|    15.0|\n",
            "|Kane Williamson|    14.0|\n",
            "+---------------+--------+\n",
            "\n"
          ]
        }
      ]
    },
    {
      "cell_type": "markdown",
      "source": [
        "**Question 2 - Name top 5 bowlers who get paid the most?**"
      ],
      "metadata": {
        "id": "caxafgt9_oHB"
      }
    },
    {
      "cell_type": "code",
      "source": [
        "df3.select('player','cost_inr').filter(df3.type=='BOWLER').orderBy('cost_inr',ascending=False).show(5)"
      ],
      "metadata": {
        "colab": {
          "base_uri": "https://localhost:8080/"
        },
        "id": "BW2sZEa-_qfq",
        "outputId": "49bf72f3-186a-4d07-b130-efdcb36f8cc4"
      },
      "execution_count": 20,
      "outputs": [
        {
          "output_type": "stream",
          "name": "stdout",
          "text": [
            "+---------------+--------+\n",
            "|         player|cost_inr|\n",
            "+---------------+--------+\n",
            "|    Rashid Khan|    15.0|\n",
            "|  Deepak Chahar|    14.0|\n",
            "| Jasprit Bumrah|    12.0|\n",
            "| Shardul Thakur|   10.75|\n",
            "|Lockie Ferguson|    10.0|\n",
            "+---------------+--------+\n",
            "only showing top 5 rows\n",
            "\n"
          ]
        }
      ]
    },
    {
      "cell_type": "code",
      "source": [
        "spark.sql(\"\"\"SELECT player, cost_inr FROM ipl WHERE type = 'BOWLER' ORDER By 2 DESC LIMIT 5 \"\"\").show()"
      ],
      "metadata": {
        "colab": {
          "base_uri": "https://localhost:8080/"
        },
        "id": "f8BCB50t_zeJ",
        "outputId": "5c4a0713-d3e9-47ca-ce13-702444f7e980"
      },
      "execution_count": 21,
      "outputs": [
        {
          "output_type": "stream",
          "name": "stdout",
          "text": [
            "+--------------+--------+\n",
            "|        player|cost_inr|\n",
            "+--------------+--------+\n",
            "|   Rashid Khan|    15.0|\n",
            "| Deepak Chahar|    14.0|\n",
            "|Jasprit Bumrah|    12.0|\n",
            "|Shardul Thakur|   10.75|\n",
            "|    Avesh Khan|    10.0|\n",
            "+--------------+--------+\n",
            "\n"
          ]
        }
      ]
    },
    {
      "cell_type": "markdown",
      "source": [
        "**Question 3 - Name 5 lowest paid wicket-keeper?**"
      ],
      "metadata": {
        "id": "DrloNqkx_-I4"
      }
    },
    {
      "cell_type": "code",
      "source": [
        "df3.select('player', 'cost_inr').filter((df3.type=='WICKETKEEPER')&(df3.cost_inr.isNotNull())).orderBy('cost_inr',ascending=True).show(5)"
      ],
      "metadata": {
        "colab": {
          "base_uri": "https://localhost:8080/"
        },
        "id": "hCfdF4_R_5AY",
        "outputId": "65e35da7-5494-41a9-8ba3-ed4d2e564912"
      },
      "execution_count": 22,
      "outputs": [
        {
          "output_type": "stream",
          "name": "stdout",
          "text": [
            "+---------------+--------+\n",
            "|         player|cost_inr|\n",
            "+---------------+--------+\n",
            "|  Jitesh Sharma|     0.2|\n",
            "|    Aryan Juyal|     0.2|\n",
            "|  N. Jagadeesan|     0.2|\n",
            "|Luvnith Sisodia|     0.2|\n",
            "| Baba Indrajith|     0.2|\n",
            "+---------------+--------+\n",
            "only showing top 5 rows\n",
            "\n"
          ]
        }
      ]
    },
    {
      "cell_type": "code",
      "source": [
        "spark.sql(\"\"\" SELECT player, cost_inr FROM ipl WHERE type = 'WICKETKEEPER' AND cost_inr is not null ORDER BY 2 LIMIT 5 \"\"\").show()"
      ],
      "metadata": {
        "colab": {
          "base_uri": "https://localhost:8080/"
        },
        "id": "Ol3MOfmdAK4D",
        "outputId": "fe8397e1-f06a-4fea-d978-fc3e32bceb19"
      },
      "execution_count": 26,
      "outputs": [
        {
          "output_type": "stream",
          "name": "stdout",
          "text": [
            "+---------------+--------+\n",
            "|         player|cost_inr|\n",
            "+---------------+--------+\n",
            "|    Dhruv Jurel|     0.2|\n",
            "|  Jitesh Sharma|     0.2|\n",
            "|  N. Jagadeesan|     0.2|\n",
            "|    Aryan Juyal|     0.2|\n",
            "|Luvnith Sisodia|     0.2|\n",
            "+---------------+--------+\n",
            "\n"
          ]
        }
      ]
    },
    {
      "cell_type": "markdown",
      "source": [
        "**Question 4 - What is the Average pay for Batsman, Bowler, All-Rounder, Wicket-Keeper?**"
      ],
      "metadata": {
        "id": "93ObqmwmAjza"
      }
    },
    {
      "cell_type": "code",
      "source": [
        "from pyspark.sql import functions as F\n",
        "\n",
        "df3.groupBy('type').agg(F.round(F.mean('cost_inr'),2).alias('average_price')).show()"
      ],
      "metadata": {
        "colab": {
          "base_uri": "https://localhost:8080/"
        },
        "id": "jWr3JMexAWnY",
        "outputId": "6d261e1d-5fc4-4484-9d97-cdd5d3997a9e"
      },
      "execution_count": 27,
      "outputs": [
        {
          "output_type": "stream",
          "name": "stdout",
          "text": [
            "+------------+-------------+\n",
            "|        type|average_price|\n",
            "+------------+-------------+\n",
            "|WICKETKEEPER|         5.09|\n",
            "|      BOWLER|         3.07|\n",
            "| ALL-ROUNDER|         3.61|\n",
            "|      BATTER|         4.11|\n",
            "+------------+-------------+\n",
            "\n"
          ]
        }
      ]
    },
    {
      "cell_type": "code",
      "source": [
        "spark.sql(\"\"\"SELECT type, round(avg(cost_inr),2) average_price FROM ipl GROUP BY 1 ORDER BY 2 DESC\"\"\").show()"
      ],
      "metadata": {
        "colab": {
          "base_uri": "https://localhost:8080/"
        },
        "id": "bUbAfhMrAqVJ",
        "outputId": "26fe2fd8-37f5-43ed-bb87-8f5f8dca453d"
      },
      "execution_count": 28,
      "outputs": [
        {
          "output_type": "stream",
          "name": "stdout",
          "text": [
            "+------------+-------------+\n",
            "|        type|average_price|\n",
            "+------------+-------------+\n",
            "|WICKETKEEPER|         5.09|\n",
            "|      BATTER|         4.11|\n",
            "| ALL-ROUNDER|         3.61|\n",
            "|      BOWLER|         3.07|\n",
            "+------------+-------------+\n",
            "\n"
          ]
        }
      ]
    },
    {
      "cell_type": "markdown",
      "source": [
        "**Question 5 - List of Retained players with team name and salary?**"
      ],
      "metadata": {
        "id": "0dHEb-JuAvPJ"
      }
    },
    {
      "cell_type": "code",
      "source": [
        "df3.select('player','2021_team','cost_inr').where(df3.base_price=='Retained').orderBy('cost_inr',ascending=False).show(10)"
      ],
      "metadata": {
        "colab": {
          "base_uri": "https://localhost:8080/"
        },
        "id": "mZ_OwY1-AyfQ",
        "outputId": "a3357d87-85b9-402a-9e61-f38c5a4af873"
      },
      "execution_count": 29,
      "outputs": [
        {
          "output_type": "stream",
          "name": "stdout",
          "text": [
            "+---------------+---------+--------+\n",
            "|         player|2021_team|cost_inr|\n",
            "+---------------+---------+--------+\n",
            "|Ravindra Jadeja|      CSK|    16.0|\n",
            "|   Rishabh Pant|       DC|    16.0|\n",
            "|   Rohit Sharma|       MI|    16.0|\n",
            "|    Virat Kohli|      RCB|    15.0|\n",
            "|   Sanju Samson|       RR|    14.0|\n",
            "|Kane Williamson|      SRH|    14.0|\n",
            "|       MS Dhoni|      CSK|    12.0|\n",
            "|  Andre Russell|      KKR|    12.0|\n",
            "| Mayank Agarwal|     PBKS|    12.0|\n",
            "| Jasprit Bumrah|       MI|    12.0|\n",
            "+---------------+---------+--------+\n",
            "only showing top 10 rows\n",
            "\n"
          ]
        }
      ]
    },
    {
      "cell_type": "code",
      "source": [
        "spark.sql(\"\"\"SELECT player, cost_inr FROM ipl WHERE base_price =\"Retained\" ORDER BY 2 DESC LIMIT 5 \"\"\").show()"
      ],
      "metadata": {
        "colab": {
          "base_uri": "https://localhost:8080/"
        },
        "id": "5fo1EfkbA2FA",
        "outputId": "3f49e809-eea6-4a11-b7e7-51af8f42dfe1"
      },
      "execution_count": 30,
      "outputs": [
        {
          "output_type": "stream",
          "name": "stdout",
          "text": [
            "+---------------+--------+\n",
            "|         player|cost_inr|\n",
            "+---------------+--------+\n",
            "|Ravindra Jadeja|    16.0|\n",
            "|   Rishabh Pant|    16.0|\n",
            "|   Rohit Sharma|    16.0|\n",
            "|    Virat Kohli|    15.0|\n",
            "|   Sanju Samson|    14.0|\n",
            "+---------------+--------+\n",
            "\n"
          ]
        }
      ]
    }
  ]
}